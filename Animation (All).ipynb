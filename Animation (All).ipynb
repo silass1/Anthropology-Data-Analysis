{
 "cells": [
  {
   "cell_type": "code",
   "execution_count": null,
   "id": "7f72b4e8",
   "metadata": {},
   "outputs": [],
   "source": [
    "# libraries\n",
    "\n",
    "import pandas as pd\n",
    "import matplotlib.pyplot as plt\n",
    "import seaborn as sns\n",
    "import numpy as np\n",
    "import plotly_express as px\n",
    "from statsmodels.formula.api import ols\n",
    "from sklearn.linear_model import LinearRegression\n",
    "import bnlearn as bn\n",
    "\n",
    "\n",
    "# importing all needed files\n",
    "\n",
    "pop = pd.read_excel(\"/Users/silas/Documents/College/Spring 2022/Anthro Homework Research/Homework 5/Pop edited.xlsx\")\n",
    "poll_df = pd.ExcelFile(\"/Users/silas/Documents/College/Spring 2022/Anthro Homework Research/Homework 5/Pollution.xlsx\")\n",
    "poll_unorder = pd.read_excel(poll_df, 'Main', usecols=[*range(0,3)])\n",
    "poll = poll_unorder.sort_values(by=['Year', 'State'])\n",
    "income = pd.read_excel(\"/Users/silas/Documents/College/Spring 2022/Anthro Homework Research/Homework 5/Income.xlsx\")\n",
    "suicide = pd.read_excel(\"/Users/silas/Documents/College/Spring 2022/Anthro Homework Research/Homework 5/Suicide.xlsx\")\n",
    "unemp = pd.read_excel(\"/Users/silas/Documents/College/Spring 2022/Anthro Homework Research/Unemp.xlsx\")"
   ]
  },
  {
   "cell_type": "code",
   "execution_count": null,
   "id": "94b329b7",
   "metadata": {},
   "outputs": [],
   "source": [
    "# merging all datasets into \"df_all\"\n",
    "\n",
    "merge1 = pd.merge(pop, income, on=['Year', 'State'])\n",
    "merge1\n",
    "pop_poll = pd.merge(merge1, poll, on=['Year', 'State'])\n",
    "pop_suicide = pd.merge(merge1, suicide, on=['Year', 'State'])\n",
    "unemp_s = pd.merge(pop_suicide, unemp, on=['Year', 'State'])\n",
    "unemp_bare = unemp_s.filter(['State', 'Year', 'Unemp'])\n",
    "most = pd.merge(pop_poll, suicide, on=['Year', 'State'])\n",
    "df_all = pd.merge(most, unemp, on=['Year', 'State'])\n",
    "df_all"
   ]
  },
  {
   "cell_type": "code",
   "execution_count": null,
   "id": "532dc94f",
   "metadata": {},
   "outputs": [],
   "source": [
    "# animation from 2000 to 2020 for income v CO pollution\n",
    "\n",
    "px.scatter(data_frame=pop_poll, x=\"Income\", y=\"CO\", animation_frame=\"Year\", animation_group=\"State\",\n",
    "          size=\"Pop\", color=\"State\", hover_name=\"State\", title=\"Income VS CO Pollution\", size_max=40)"
   ]
  },
  {
   "cell_type": "code",
   "execution_count": null,
   "id": "c913f659",
   "metadata": {},
   "outputs": [],
   "source": [
    "px.scatter(data_frame=df_all, x=\"Income\", y=\"Unemp\", animation_frame=\"Year\", animation_group=\"State\",\n",
    "          size=\"Pop\", color=\"State\", hover_name=\"State\", title=\"Income VS Unemployment\", \n",
    "          range_x=[34000, 90000], range_y=[0,13], size_max=40)"
   ]
  },
  {
   "cell_type": "code",
   "execution_count": null,
   "id": "baa77978",
   "metadata": {},
   "outputs": [],
   "source": [
    "# animation from 2004, 2014-2020 comparing imcome with suicide over time\n",
    "\n",
    "px.scatter(data_frame=pop_suicide, x=\"Income\", y=\"Suicide\", animation_frame=\"Year\", animation_group=\"State\",\n",
    "           size=\"Pop\", color=\"State\", hover_name=\"State\", range_x=[40000,90000], range_y=[0,30], \n",
    "           title=\"Income VS Suicide\", size_max=40)"
   ]
  },
  {
   "cell_type": "code",
   "execution_count": null,
   "id": "f2b16574",
   "metadata": {},
   "outputs": [],
   "source": [
    "px.scatter(data_frame=df_all, x=\"Income\", y=\"Unemp\", animation_frame=\"Year\", animation_group=\"State\",\n",
    "          size=\"Pop\", color=\"State\", hover_name=\"State\", title=\"Income VS Unemployment\", \n",
    "          range_x=[34000, 90000], range_y=[0,13], size_max=40)"
   ]
  },
  {
   "cell_type": "code",
   "execution_count": null,
   "id": "fd3c19d9",
   "metadata": {},
   "outputs": [],
   "source": [
    "px.scatter(data_frame=unemp_s, x=\"Unemp\", y=\"Suicide\", animation_frame=\"Year\", animation_group=\"State\",\n",
    "          size=\"Pop\", color=\"State\", hover_name=\"State\", title=\"Unemployment v Suicide\", range_x=[0,13],\n",
    "          range_y=[0,30], size_max=40)"
   ]
  },
  {
   "cell_type": "code",
   "execution_count": null,
   "id": "7c353255",
   "metadata": {},
   "outputs": [],
   "source": [
    "fit = ols('Suicide ~ Pop', data=pop_suicide).fit()\n",
    "\n",
    "print(fit.summary())\n",
    "print(fit.params)"
   ]
  },
  {
   "cell_type": "code",
   "execution_count": null,
   "id": "9ba94941",
   "metadata": {},
   "outputs": [],
   "source": [
    "fit2 = ols('CO ~ Suicide', data=most).fit()\n",
    "\n",
    "print(fit2.summary())\n",
    "print(fit2.params)"
   ]
  },
  {
   "cell_type": "code",
   "execution_count": null,
   "id": "21a20814",
   "metadata": {},
   "outputs": [],
   "source": [
    "fit3 = ols('CO ~ Year', data=pop_poll).fit()\n",
    "\n",
    "print(fit3.summary())\n",
    "print(fit3.params)"
   ]
  },
  {
   "cell_type": "code",
   "execution_count": null,
   "id": "e39a8b03",
   "metadata": {},
   "outputs": [],
   "source": [
    "fit4 = ols('Suicide ~ Income', data=most).fit()\n",
    "\n",
    "print(fit4.summary())\n",
    "print(fit4.params)"
   ]
  },
  {
   "cell_type": "code",
   "execution_count": null,
   "id": "cf3cc8bb",
   "metadata": {},
   "outputs": [],
   "source": [
    "fit5 = ols('CO ~ Pop', data=most).fit()\n",
    "\n",
    "print(fit5.summary())\n",
    "print(fit5.params)"
   ]
  },
  {
   "cell_type": "code",
   "execution_count": null,
   "id": "0873be1b",
   "metadata": {},
   "outputs": [],
   "source": [
    "fit6 = ols('CO ~ Income', data=pop_poll).fit()\n",
    "\n",
    "print(fit6.summary())\n",
    "print(fit6.params)"
   ]
  }
 ],
 "metadata": {
  "kernelspec": {
   "display_name": "Python 3 (ipykernel)",
   "language": "python",
   "name": "python3"
  },
  "language_info": {
   "codemirror_mode": {
    "name": "ipython",
    "version": 3
   },
   "file_extension": ".py",
   "mimetype": "text/x-python",
   "name": "python",
   "nbconvert_exporter": "python",
   "pygments_lexer": "ipython3",
   "version": "3.9.7"
  }
 },
 "nbformat": 4,
 "nbformat_minor": 5
}
